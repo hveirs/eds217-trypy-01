{
 "cells": [
  {
   "cell_type": "code",
   "execution_count": null,
   "metadata": {},
   "outputs": [],
   "source": [
    "# This is a test python notebook for TryPy"
   ]
  }
 ],
 "metadata": {
  "kernelspec": {
   "display_name": "Python 3.10.5 ('eds-217')",
   "language": "python",
   "name": "python3"
  },
  "language_info": {
   "name": "python",
   "version": "3.10.5"
  },
  "orig_nbformat": 4,
  "vscode": {
   "interpreter": {
    "hash": "f381589d1608f20391d40ab209118d38c5c0a35b48cf707b011d613afb3c3af2"
   }
  }
 },
 "nbformat": 4,
 "nbformat_minor": 2
}
